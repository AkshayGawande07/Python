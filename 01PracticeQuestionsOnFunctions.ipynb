{
  "nbformat": 4,
  "nbformat_minor": 0,
  "metadata": {
    "kernelspec": {
      "display_name": "Python 3",
      "language": "python",
      "name": "python3"
    },
    "language_info": {
      "codemirror_mode": {
        "name": "ipython",
        "version": 3
      },
      "file_extension": ".py",
      "mimetype": "text/x-python",
      "name": "python",
      "nbconvert_exporter": "python",
      "pygments_lexer": "ipython3",
      "version": "3.8.5"
    },
    "colab": {
      "name": "01PracticeQuestionsOnFunctions.ipynb",
      "provenance": [],
      "include_colab_link": true
    }
  },
  "cells": [
    {
      "cell_type": "markdown",
      "metadata": {
        "id": "view-in-github",
        "colab_type": "text"
      },
      "source": [
        "<a href=\"https://colab.research.google.com/github/AkshayGawande07/Python/blob/master/01PracticeQuestionsOnFunctions.ipynb\" target=\"_parent\"><img src=\"https://colab.research.google.com/assets/colab-badge.svg\" alt=\"Open In Colab\"/></a>"
      ]
    },
    {
      "cell_type": "markdown",
      "metadata": {
        "id": "7_m4i6LBol0O",
        "colab_type": "text"
      },
      "source": [
        "1. Write a function that inputs a number and prints the multiplication table of that number"
      ]
    },
    {
      "cell_type": "code",
      "metadata": {
        "id": "bc519_Otol0R",
        "colab_type": "code",
        "colab": {
          "base_uri": "https://localhost:8080/",
          "height": 185
        },
        "outputId": "646f0ff2-1e5e-40b9-e1e5-d02e62341fce"
      },
      "source": [
        "def table(num):\n",
        "    for i in range(1,11):\n",
        "        print(i*num)\n",
        "        \n",
        "table(17)"
      ],
      "execution_count": 1,
      "outputs": [
        {
          "output_type": "stream",
          "text": [
            "17\n",
            "34\n",
            "51\n",
            "68\n",
            "85\n",
            "102\n",
            "119\n",
            "136\n",
            "153\n",
            "170\n"
          ],
          "name": "stdout"
        }
      ]
    },
    {
      "cell_type": "markdown",
      "metadata": {
        "id": "Bo44ewCuol0k",
        "colab_type": "text"
      },
      "source": [
        "2. Write a program to print twin primes less than 1000. If two consecutive odd numbers are both prime then they are known as twin primes"
      ]
    },
    {
      "cell_type": "code",
      "metadata": {
        "id": "dxV_V88Vol0m",
        "colab_type": "code",
        "colab": {
          "base_uri": "https://localhost:8080/",
          "height": 622
        },
        "outputId": "f1e10579-3749-48d2-b69e-b42b39baf274"
      },
      "source": [
        "def isTwinPrime(primeNumber):\n",
        "    print('List of Twin Prime Number:')\n",
        "    for i in range(len(primeNumber)-1):\n",
        "        if (abs(primeNumber[i]-primeNumber[i+1])==2):\n",
        "            print(primeNumber[i],primeNumber[i+1])\n",
        "            \n",
        "def isPrime():\n",
        "    primeNumber = []\n",
        "    for num in range(1, 1001):\n",
        "        if num > 1:\n",
        "            for i in range(2, num):\n",
        "                if (num % i) == 0:\n",
        "                    break\n",
        "            else:\n",
        "                primeNumber.append(num)\n",
        "                \n",
        "    isTwinPrime(primeNumber)\n",
        "\n",
        "\n",
        "isPrime()"
      ],
      "execution_count": 3,
      "outputs": [
        {
          "output_type": "stream",
          "text": [
            "List of Twin Prime Number:\n",
            "3 5\n",
            "5 7\n",
            "11 13\n",
            "17 19\n",
            "29 31\n",
            "41 43\n",
            "59 61\n",
            "71 73\n",
            "101 103\n",
            "107 109\n",
            "137 139\n",
            "149 151\n",
            "179 181\n",
            "191 193\n",
            "197 199\n",
            "227 229\n",
            "239 241\n",
            "269 271\n",
            "281 283\n",
            "311 313\n",
            "347 349\n",
            "419 421\n",
            "431 433\n",
            "461 463\n",
            "521 523\n",
            "569 571\n",
            "599 601\n",
            "617 619\n",
            "641 643\n",
            "659 661\n",
            "809 811\n",
            "821 823\n",
            "827 829\n",
            "857 859\n",
            "881 883\n"
          ],
          "name": "stdout"
        }
      ]
    },
    {
      "cell_type": "markdown",
      "metadata": {
        "id": "zkGuI4nyol0w",
        "colab_type": "text"
      },
      "source": [
        "3. Write a program to find out the prime factors of a number. Example: prime factors of 56 - 2, 2, 2, 7"
      ]
    },
    {
      "cell_type": "code",
      "metadata": {
        "id": "vi1yfBYmol0y",
        "colab_type": "code",
        "colab": {
          "base_uri": "https://localhost:8080/",
          "height": 34
        },
        "outputId": "89b6692a-efe4-4fbc-8a49-ba6f7b21a72f"
      },
      "source": [
        "def findFactors(num):\n",
        "    factors = []\n",
        "    \n",
        "    while (num%2==0):\n",
        "        factors.append(2)\n",
        "        num/=2\n",
        "        \n",
        "    for i in range (3,int(num)):\n",
        "        if(num%i==0):\n",
        "            factors.append(i)\n",
        "            num/=i\n",
        "            \n",
        "    if num>2:\n",
        "        factors.append(int(num))\n",
        "        \n",
        "    print(factors)\n",
        "    \n",
        "findFactors(7429)"
      ],
      "execution_count": 5,
      "outputs": [
        {
          "output_type": "stream",
          "text": [
            "[17, 19, 23]\n"
          ],
          "name": "stdout"
        }
      ]
    },
    {
      "cell_type": "markdown",
      "metadata": {
        "id": "tF2BzdP6ol08",
        "colab_type": "text"
      },
      "source": [
        "4. Write a program to implement these formulae of permutations and combinations. Number of permutations of n objects taken r at a time: p(n, r) = n! / (n-r)!. Number of combinations of n objects taken r at a time is: c(n, r) = n! / (r!*(n-r)!) = p(n,r) / r!"
      ]
    },
    {
      "cell_type": "code",
      "metadata": {
        "id": "tzMPyGgTol09",
        "colab_type": "code",
        "colab": {
          "base_uri": "https://localhost:8080/",
          "height": 50
        },
        "outputId": "25876b15-4706-461d-e2dc-c1fd968ebd8f"
      },
      "source": [
        "def functionName(n,r):\n",
        "    nFactorial = 1\n",
        "    rFactorial = 1\n",
        "    nrFactorial = 1\n",
        "    \n",
        "    nFactorial = calculateFactorial(n)\n",
        "    rFactorial = calculateFactorial(r)\n",
        "    nrFactorial = calculateFactorial(n-r)\n",
        "    \n",
        "    pnr=nFactorial/nrFactorial\n",
        "    cnr=nFactorial/(rFactorial*nrFactorial)\n",
        "    \n",
        "    print('PNR : ',int(pnr))\n",
        "    print('CNR : ',int(cnr))\n",
        "    \n",
        "def calculateFactorial(num):\n",
        "    fact = 1\n",
        "    for i in range (1,num+1):\n",
        "        fact*=i\n",
        "    return fact\n",
        "    \n",
        "functionName(6,2)\n",
        "    "
      ],
      "execution_count": 6,
      "outputs": [
        {
          "output_type": "stream",
          "text": [
            "PNR :  30\n",
            "CNR :  15\n"
          ],
          "name": "stdout"
        }
      ]
    },
    {
      "cell_type": "markdown",
      "metadata": {
        "id": "5he0MIt3ol1G",
        "colab_type": "text"
      },
      "source": [
        "5. Write a function that converts a decimal number to binary number"
      ]
    },
    {
      "cell_type": "code",
      "metadata": {
        "id": "gon5S9g6ol1I",
        "colab_type": "code",
        "colab": {
          "base_uri": "https://localhost:8080/",
          "height": 34
        },
        "outputId": "ef5f9559-8a5f-4be4-e1a9-349e2cd47c63"
      },
      "source": [
        "def decimalToBinary(n):\n",
        "    if n > 1:\n",
        "        decimalToBinary(n//2)\n",
        "    print(n % 2,end = '')\n",
        "\n",
        "decimalToBinary(12)\n",
        "print()"
      ],
      "execution_count": 10,
      "outputs": [
        {
          "output_type": "stream",
          "text": [
            "1100\n"
          ],
          "name": "stdout"
        }
      ]
    },
    {
      "cell_type": "markdown",
      "metadata": {
        "id": "ASPK3Rxqol1T",
        "colab_type": "text"
      },
      "source": [
        "6. Write a function cubesum() that accepts an integer and returns the sum of the cubes of individual digits of that number. Use this function to make functions PrintArmstrong() and isArmstrong() to print Armstrong numbers and to find whether is an Armstrong number."
      ]
    },
    {
      "cell_type": "code",
      "metadata": {
        "id": "KvN7yKZAol1V",
        "colab_type": "code",
        "colab": {
          "base_uri": "https://localhost:8080/",
          "height": 50
        },
        "outputId": "9034fc9f-b426-424e-aefc-c7b8427bcd59"
      },
      "source": [
        "def cubeSum(num):\n",
        "    num=str(num)\n",
        "    vSum = 0\n",
        "    for i in num:\n",
        "        vSum+=(int(i)**3)\n",
        "        \n",
        "    printArmStrong(vSum,num)\n",
        "\n",
        "def printArmStrong(vSum,num):\n",
        "    if isArmstrong(vSum,num):\n",
        "        print('Is Armstrong :', num)\n",
        "        print('With Cube Sum :', vSum)\n",
        "    else:\n",
        "        print('is NOT Armstrong :', num)\n",
        "        print('With Cube Sum :', vSum)\n",
        "    \n",
        "def isArmstrong(vSum,num):\n",
        "    if (int(vSum)==int(num)):\n",
        "        return True\n",
        "    else:\n",
        "        return False\n",
        "    \n",
        "cubeSum(408)"
      ],
      "execution_count": 11,
      "outputs": [
        {
          "output_type": "stream",
          "text": [
            "is NOT Armstrong : 408\n",
            "With Cube Sum : 576\n"
          ],
          "name": "stdout"
        }
      ]
    },
    {
      "cell_type": "markdown",
      "metadata": {
        "id": "VP4weCPzol1g",
        "colab_type": "text"
      },
      "source": [
        "7. Write a function prodDigits() that inputs a number and returns the product of digits of that number."
      ]
    },
    {
      "cell_type": "code",
      "metadata": {
        "id": "7wzXVi9qol1i",
        "colab_type": "code",
        "colab": {
          "base_uri": "https://localhost:8080/",
          "height": 34
        },
        "outputId": "8e101e2a-6bc9-4c79-dc56-fa57813e4a6f"
      },
      "source": [
        "def prodDigits(num):\n",
        "    num = str(num)\n",
        "    prod = 1\n",
        "    for i in num:\n",
        "        prod*=int(i)\n",
        "    return (int(prod))\n",
        "    \n",
        "prod = prodDigits(564879)\n",
        "print(prod)"
      ],
      "execution_count": 12,
      "outputs": [
        {
          "output_type": "stream",
          "text": [
            "60480\n"
          ],
          "name": "stdout"
        }
      ]
    },
    {
      "cell_type": "markdown",
      "metadata": {
        "id": "mUH29HO3ol1w",
        "colab_type": "text"
      },
      "source": [
        "8. If all digits of a number n are multiplied by each other repeating with the product, the one digit number obtained at last is called the multiplicative digital root of n. The number of times digits need to be multiplied to reach one digit is called the multiplicative persistance of n.<br>\n",
        " Example: <br>\n",
        "     86 -> 48 -> 32 -> 6 (MDR 6, MPersistence 3)\n",
        "     <br>341 -> 12->2 (MDR 2, MPersistence 2)\n",
        "     <br>\n",
        "Using the function prodDigits() of previous exercise write functions MDR() and\n",
        "MPersistence() that input a number and return its multiplicative digital root and\n",
        "multiplicative persistence respectively"
      ]
    },
    {
      "cell_type": "code",
      "metadata": {
        "id": "Ky9s_pTbol1y",
        "colab_type": "code",
        "colab": {
          "base_uri": "https://localhost:8080/",
          "height": 50
        },
        "outputId": "64596e01-b2bc-4d03-f31e-6f2277943e59"
      },
      "source": [
        "def MDR(num):\n",
        "    while (len(str(num))>1):\n",
        "        prod=prodDigits(int(num))\n",
        "        num = prod\n",
        "    print('MDR :',num)\n",
        "    \n",
        "def MPersistence(num):\n",
        "    c=0\n",
        "    while(len(str(num))>1):\n",
        "        prod=prodDigits(int(num))\n",
        "        num = prod\n",
        "        c+=1\n",
        "    print('MPersistence :',c)\n",
        "\n",
        "MDR(86)\n",
        "MPersistence(86)"
      ],
      "execution_count": 14,
      "outputs": [
        {
          "output_type": "stream",
          "text": [
            "MDR : 6\n",
            "MPersistence : 3\n"
          ],
          "name": "stdout"
        }
      ]
    },
    {
      "cell_type": "markdown",
      "metadata": {
        "id": "jQZR-MFNol18",
        "colab_type": "text"
      },
      "source": [
        "9. Write a function sumPdivisors() that finds the sum of proper divisors of a number. Proper divisors of a number are those numbers by which the number is divisible, except the number itself. For example proper divisors of 36 are 1, 2, 3, 4, 6, 9, 18"
      ]
    },
    {
      "cell_type": "code",
      "metadata": {
        "id": "I340wZU_ol1-",
        "colab_type": "code",
        "colab": {
          "base_uri": "https://localhost:8080/",
          "height": 34
        },
        "outputId": "e9f1bf00-9da5-40d7-cadb-8bd1e71e6f3f"
      },
      "source": [
        "def sumPdivisors(num):\n",
        "    divisors = []\n",
        "    for i in range (1,num):\n",
        "        if (num%i==0):\n",
        "            divisors.append(i)\n",
        "    return (sum(divisors))\n",
        "\n",
        "sumPdiv=sumPdivisors(220)\n",
        "print(sumPdiv)"
      ],
      "execution_count": 15,
      "outputs": [
        {
          "output_type": "stream",
          "text": [
            "284\n"
          ],
          "name": "stdout"
        }
      ]
    },
    {
      "cell_type": "markdown",
      "metadata": {
        "id": "jTVLa-n2ol2I",
        "colab_type": "text"
      },
      "source": [
        "10. A number is called perfect if the sum of proper divisors of that number is equal to the number. For example 28 is perfect number, since 1+2+4+7+14=28. Write a program to print all the perfect numbers in a given range"
      ]
    },
    {
      "cell_type": "code",
      "metadata": {
        "id": "wStKeAtMol2K",
        "colab_type": "code",
        "colab": {
          "base_uri": "https://localhost:8080/",
          "height": 34
        },
        "outputId": "4877c251-4b0f-4811-b93b-3aa57b1614a9"
      },
      "source": [
        "def perfectNumber(num1,num2):\n",
        "    for i in range(num1,num2+1):\n",
        "        sumPDiv = sumPdivisors(i)\n",
        "        if (i==sumPDiv):\n",
        "            print('Perfect Number : ',i)\n",
        "\n",
        "perfectNumber(28,29)"
      ],
      "execution_count": 16,
      "outputs": [
        {
          "output_type": "stream",
          "text": [
            "Perfect Number :  28\n"
          ],
          "name": "stdout"
        }
      ]
    },
    {
      "cell_type": "markdown",
      "metadata": {
        "id": "U7x5C9imol2W",
        "colab_type": "text"
      },
      "source": [
        "11. Two different numbers are called amicable numbers if the sum of the proper divisors of each is equal to the other number. For example 220 and 284 are amicable numbers."
      ]
    },
    {
      "cell_type": "code",
      "metadata": {
        "id": "Z3IjB4zZol2Y",
        "colab_type": "code",
        "colab": {
          "base_uri": "https://localhost:8080/",
          "height": 34
        },
        "outputId": "dfd91cf4-863f-4776-e660-0ba2cee49065"
      },
      "source": [
        "def amicableNumber(num1,num2):\n",
        "    sNum1 = sumPdivisors(num1)\n",
        "    sNum2 = sumPdivisors(num2)\n",
        "    \n",
        "    if (sNum1==num2 and sNum2==num1):\n",
        "        print('{0} and {1} are Amicabel Numbers.'.format(num1,num2))\n",
        "    else:\n",
        "        print('{0} and {1} are NOT Amicabel Numbers.'.format(num1,num2))\n",
        "\n",
        "amicableNumber(1184,1210)"
      ],
      "execution_count": 17,
      "outputs": [
        {
          "output_type": "stream",
          "text": [
            "1184 and 1210 are Amicabel Numbers.\n"
          ],
          "name": "stdout"
        }
      ]
    },
    {
      "cell_type": "markdown",
      "metadata": {
        "id": "CDz1wmYlol2g",
        "colab_type": "text"
      },
      "source": [
        "12. Write a program which can filter odd numbers in a list by using filter function"
      ]
    },
    {
      "cell_type": "code",
      "metadata": {
        "id": "uvZDDxe_ol2h",
        "colab_type": "code",
        "colab": {
          "base_uri": "https://localhost:8080/",
          "height": 50
        },
        "outputId": "2a9bffff-171f-46f6-d0d2-9a130f8938eb"
      },
      "source": [
        "def oddNumber(num):\n",
        "    if (num%2==0):\n",
        "        return False\n",
        "    else:\n",
        "        return True\n",
        "\n",
        "numberList = [1,2,3,4,5,6,7,8,9,10,11,12,13,99,98,97,96,95,94]    \n",
        "oddNumber = filter(oddNumber,numberList)\n",
        "\n",
        "print('Odd Numbers:')\n",
        "print(*(i for i in oddNumber), sep=', ', end='')"
      ],
      "execution_count": 18,
      "outputs": [
        {
          "output_type": "stream",
          "text": [
            "Odd Numbers:\n",
            "1, 3, 5, 7, 9, 11, 13, 99, 97, 95"
          ],
          "name": "stdout"
        }
      ]
    },
    {
      "cell_type": "markdown",
      "metadata": {
        "id": "o7vRzgY9ol2q",
        "colab_type": "text"
      },
      "source": [
        "13. Write a program which can map() to make a list whose elements are cube of elements in a given list"
      ]
    },
    {
      "cell_type": "code",
      "metadata": {
        "id": "dP0LgGtlol2r",
        "colab_type": "code",
        "colab": {
          "base_uri": "https://localhost:8080/",
          "height": 50
        },
        "outputId": "f2cba125-b825-47da-cb57-3d16919f65ae"
      },
      "source": [
        "def calculateCube(num):\n",
        "    return num**3\n",
        "\n",
        "numList = [1,2,3,4,5,6,7,8,9]\n",
        "x = map(calculateCube, (numList))\n",
        "print('Cube of Elements')\n",
        "print(list(x))"
      ],
      "execution_count": 19,
      "outputs": [
        {
          "output_type": "stream",
          "text": [
            "Cube of Elements\n",
            "[1, 8, 27, 64, 125, 216, 343, 512, 729]\n"
          ],
          "name": "stdout"
        }
      ]
    },
    {
      "cell_type": "markdown",
      "metadata": {
        "id": "KzJs3nQCol20",
        "colab_type": "text"
      },
      "source": [
        "14. Write a program which can map() and filter() to make a list whose elements are cube of even number in a given list"
      ]
    },
    {
      "cell_type": "code",
      "metadata": {
        "id": "B8p0XN04ol22",
        "colab_type": "code",
        "colab": {
          "base_uri": "https://localhost:8080/",
          "height": 34
        },
        "outputId": "7664d596-d5b2-4065-cee6-9ec7ed30c768"
      },
      "source": [
        "#Reference source : https://www.geeksforgeeks.org/python-lambda-anonymous-functions-filter-map-reduce/\n",
        "\n",
        "number = [1,2,3,4,5,6,7,8,9,10,11,12,13,99,98,97,96,95,94]    \n",
        " \n",
        "evenCube = map(lambda x: x**3, filter(lambda   x: x%2==0, number))\n",
        " \n",
        "print(list(evenCube))"
      ],
      "execution_count": 20,
      "outputs": [
        {
          "output_type": "stream",
          "text": [
            "[8, 64, 216, 512, 1000, 1728, 941192, 884736, 830584]\n"
          ],
          "name": "stdout"
        }
      ]
    },
    {
      "cell_type": "code",
      "metadata": {
        "id": "Vyqdiw8xol29",
        "colab_type": "code",
        "colab": {}
      },
      "source": [
        ""
      ],
      "execution_count": null,
      "outputs": []
    }
  ]
}